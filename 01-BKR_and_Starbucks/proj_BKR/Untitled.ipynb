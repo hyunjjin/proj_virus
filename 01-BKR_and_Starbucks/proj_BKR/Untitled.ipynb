{
 "cells": [
  {
   "cell_type": "markdown",
   "metadata": {},
   "source": [
    "-----\n",
    "# 2. 데이터 기초통계량\n",
    "> - 전국 지점 수를 비교해보면, 스타벅스가 버거킹 수에 비에 비해 20배 정도 많은 것을 알 수 있음.\n",
    "> - 두 곳의 드라이브 쓰루 수를 비교해보면, 지점 수 대비 버거킹이 드라이브쓰루가 더 많음"
   ]
  },
  {
   "cell_type": "code",
   "execution_count": null,
   "metadata": {},
   "outputs": [],
   "source": [
    "-----\n",
    "# 2. 데이터 기초통계량\n",
    "> - 전국 지점 수를 비교해보면, 스타벅스가 버거킹 수에 비에 비해 20배 정도 많은 것을 알 수 있음.\n",
    "> - 두 곳의 드라이브 쓰루 수를 비교해보면, 지점 수 대비 버거킹이 드라이브쓰루가 더 많음\n",
    "\n",
    "print('전국 스타벅스 지점 수: ', len(data_star),\n",
    "     '\\n전국 버거킹 지점 수: ', len(data_bkr))\n",
    "\n",
    "## 스타벅스 종류\n",
    "# pin_general; 일반매장, \n",
    "# pin_reserve; 리저브샵, \n",
    "# pin_generalDT; 드라이브쓰루)\n",
    "\n",
    "data_star['star'].value_counts()\n",
    "\n",
    "## 버거킹 종류\n",
    "#delivery; 배달여부(yes=1, no=0)\n",
    "#king; 킹오더\n",
    "#night; 24시간 매장\n",
    "# breakfast; 아침메뉴\n",
    "# parking; 주차장\n",
    "# dt; 드라이브쓰루\n",
    "\n",
    "data_bkr[['delivery','king','night','breakfast','parking','dt']].apply(pd.Series.value_counts)"
   ]
  }
 ],
 "metadata": {
  "kernelspec": {
   "display_name": "Python 3",
   "language": "python",
   "name": "python3"
  },
  "language_info": {
   "codemirror_mode": {
    "name": "ipython",
    "version": 3
   },
   "file_extension": ".py",
   "mimetype": "text/x-python",
   "name": "python",
   "nbconvert_exporter": "python",
   "pygments_lexer": "ipython3",
   "version": "3.7.6"
  }
 },
 "nbformat": 4,
 "nbformat_minor": 4
}
