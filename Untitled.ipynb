{
 "cells": [
  {
   "cell_type": "code",
   "execution_count": 2,
   "metadata": {},
   "outputs": [],
   "source": [
    "import pandas as pd\n",
    "from dbfread import DBF\n",
    "import glob, os"
   ]
  },
  {
   "cell_type": "code",
   "execution_count": 13,
   "metadata": {},
   "outputs": [
    {
     "name": "stdout",
     "output_type": "stream",
     "text": [
      "0  /  F_FAC_BUILDING_11_202008.dbf\n",
      "1  /  F_FAC_BUILDING_26_202008.dbf\n",
      "2  /  F_FAC_BUILDING_27_202008.dbf\n",
      "3  /  F_FAC_BUILDING_28_202008.dbf\n",
      "4  /  F_FAC_BUILDING_29_202008.dbf\n",
      "5  /  F_FAC_BUILDING_30_202008.dbf\n",
      "6  /  F_FAC_BUILDING_31_202008.dbf\n",
      "7  /  F_FAC_BUILDING_36_202008.dbf\n",
      "8  /  F_FAC_BUILDING_41_202008.dbf\n",
      "9  /  F_FAC_BUILDING_42_202008.dbf\n",
      "10  /  F_FAC_BUILDING_43_202008.dbf\n",
      "11  /  F_FAC_BUILDING_44_202008.dbf\n",
      "12  /  F_FAC_BUILDING_45_202008.dbf\n",
      "13  /  F_FAC_BUILDING_46_202008.dbf\n",
      "14  /  F_FAC_BUILDING_47_202008.dbf\n",
      "15  /  F_FAC_BUILDING_48_202008.dbf\n",
      "16  /  F_FAC_BUILDING_50_202008.dbf\n"
     ]
    }
   ],
   "source": [
    "os.chdir(\"/mnt/c/Users/hyunji/Desktop/building_master\")\n",
    "data_list = glob.glob('*.dbf')\n",
    "\n",
    "for i in range(len(data_list)):\n",
    "    \n",
    "    df = pd.DataFrame(iter(DBF(data_list[i], encoding='cp949')))[['UFID','BLD_NM','DONG_NM','BLDRGST_PK','BD_MGT_SN','COL_ADM_SE']]\n",
    "    df.to_csv('modif' + data_list[i].replace('dbf', 'txt'), sep='|', index=False, encoding='utf-8')\n",
    "    \n",
    "    print(i, ' / ', data_list[i])"
   ]
  }
 ],
 "metadata": {
  "kernelspec": {
   "display_name": "Python 3",
   "language": "python",
   "name": "python3"
  },
  "language_info": {
   "codemirror_mode": {
    "name": "ipython",
    "version": 3
   },
   "file_extension": ".py",
   "mimetype": "text/x-python",
   "name": "python",
   "nbconvert_exporter": "python",
   "pygments_lexer": "ipython3",
   "version": "3.7.6"
  }
 },
 "nbformat": 4,
 "nbformat_minor": 4
}
